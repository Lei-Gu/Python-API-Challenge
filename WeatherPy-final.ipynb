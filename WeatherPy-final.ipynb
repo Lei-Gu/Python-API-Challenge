{
 "cells": [
  {
   "cell_type": "markdown",
   "metadata": {},
   "source": [
    "# WeatherPy\n",
    "----\n",
    "\n",
    "#### Note\n",
    "* Instructions have been included for each segment. You do not have to follow them exactly, but they are included to help you think through the steps."
   ]
  },
  {
   "cell_type": "code",
   "execution_count": 11,
   "metadata": {
    "scrolled": true
   },
   "outputs": [],
   "source": [
    "# Dependencies and Setup\n",
    "import matplotlib.pyplot as plt\n",
    "import pandas as pd\n",
    "import numpy as np\n",
    "import requests\n",
    "import time\n",
    "from scipy.stats import linregress\n",
    "import csv\n",
    "from scipy import stats\n",
    "\n",
    "# Import API key\n",
    "from api_keys import weather_api_key\n",
    "\n",
    "# Incorporated citipy to determine city based on latitude and longitude\n",
    "from citipy import citipy\n",
    "\n",
    "# Output File (CSV)\n",
    "output_data_file = \"output_data/cities_final.csv\"\n",
    "\n",
    "# Range of latitudes and longitudes\n",
    "lat_range = (-90, 90)\n",
    "lng_range = (-180, 180)"
   ]
  },
  {
   "cell_type": "markdown",
   "metadata": {},
   "source": [
    "## Generate Cities List"
   ]
  },
  {
   "cell_type": "code",
   "execution_count": 3,
   "metadata": {},
   "outputs": [
    {
     "data": {
      "text/plain": [
       "526"
      ]
     },
     "execution_count": 3,
     "metadata": {},
     "output_type": "execute_result"
    }
   ],
   "source": [
    "# List for holding lat_lngs and cities\n",
    "lat_lngs = []\n",
    "cities = []\n",
    "\n",
    "# Create a set of random lat and lng combinations\n",
    "lats = np.random.uniform(low=-90.000, high=90.000, size=1200)  #1500 total\n",
    "lngs = np.random.uniform(low=-180.000, high=180.000, size=1200)\n",
    "lat_lngs = zip(lats, lngs)\n",
    "\n",
    "# Identify nearest city for each lat, lng combination\n",
    "for lat_lng in lat_lngs:\n",
    "    city = citipy.nearest_city(lat_lng[0], lat_lng[1]).city_name\n",
    "    \n",
    "    # If the city is unique, then add it to a our cities list\n",
    "    if city not in cities:\n",
    "        cities.append(city)\n",
    "\n",
    "# Print the city count to confirm sufficient count\n",
    "len(cities)"
   ]
  },
  {
   "cell_type": "markdown",
   "metadata": {},
   "source": [
    "### Perform API Calls\n",
    "* Perform a weather check on each city using a series of successive API calls.\n",
    "* Include a print log of each city as it'sbeing processed (with the city number and city name).\n"
   ]
  },
  {
   "cell_type": "code",
   "execution_count": 4,
   "metadata": {},
   "outputs": [],
   "source": [
    "lat = []\n",
    "lng = []\n",
    "temp = []\n",
    "cloudiness = []\n",
    "country = []\n",
    "date = []\n",
    "Humidity = []\n",
    "temp_max = []\n",
    "wind_speed = []\n",
    "city_name = []\n"
   ]
  },
  {
   "cell_type": "code",
   "execution_count": 5,
   "metadata": {},
   "outputs": [
    {
     "name": "stdout",
     "output_type": "stream",
     "text": [
      "-----------------------------\n",
      "Beginning Data Retrieval\n",
      "-----------------------------\n",
      "Processing record 1 of set 0 | bluff\n",
      "Processing record 2 of set 0 | klaksvik\n",
      "Processing record 3 of set 0 | kokstad\n",
      "Processing record 4 of set 0 | staraya poltavka\n",
      "Processing record 5 of set 0 | tuatapere\n",
      "Processing record 6 of set 0 | albany\n",
      "Processing record 7 of set 0 | kapaa\n",
      "Processing record 8 of set 0 | skibbereen\n",
      "Processing record 9 of set 0 | maloshuyka\n",
      "City not found. Skipping...\n",
      "Processing record 10 of set 0 | leshukonskoye\n",
      "Processing record 11 of set 0 | atuona\n",
      "Processing record 12 of set 0 | punta arenas\n",
      "Processing record 13 of set 0 | nyurba\n",
      "Processing record 14 of set 0 | pokhara\n",
      "Processing record 15 of set 0 | saskylakh\n",
      "Processing record 16 of set 0 | narsaq\n",
      "Processing record 17 of set 0 | castro\n",
      "Processing record 18 of set 0 | palabuhanratu\n",
      "City not found. Skipping...\n",
      "Processing record 19 of set 0 | rikitea\n",
      "Processing record 20 of set 0 | edgewater\n",
      "Processing record 21 of set 0 | new norfolk\n",
      "Processing record 22 of set 0 | merauke\n",
      "Processing record 23 of set 0 | port alfred\n",
      "Processing record 24 of set 0 | nelson bay\n",
      "Processing record 25 of set 0 | omboue\n",
      "Processing record 26 of set 0 | portland\n",
      "Processing record 27 of set 0 | west wendover\n",
      "Processing record 28 of set 0 | ushuaia\n",
      "Processing record 29 of set 0 | manadhoo\n",
      "Processing record 30 of set 0 | makakilo city\n",
      "Processing record 31 of set 0 | constitucion\n",
      "Processing record 32 of set 0 | nikolskoye\n",
      "Processing record 33 of set 0 | eureka\n",
      "Processing record 34 of set 0 | port elizabeth\n",
      "Processing record 35 of set 0 | ribeira grande\n",
      "Processing record 36 of set 0 | belushya guba\n",
      "City not found. Skipping...\n",
      "Processing record 37 of set 0 | port-cartier\n",
      "Processing record 38 of set 0 | georgetown\n",
      "Processing record 39 of set 0 | cape town\n",
      "Processing record 40 of set 0 | ponta do sol\n",
      "Processing record 41 of set 0 | avarua\n",
      "Processing record 42 of set 0 | nerchinskiy zavod\n",
      "Processing record 43 of set 0 | lima\n",
      "Processing record 44 of set 0 | sentyabrskiy\n",
      "City not found. Skipping...\n",
      "Processing record 45 of set 0 | tuktoyaktuk\n",
      "Processing record 46 of set 0 | stoyba\n",
      "City not found. Skipping...\n",
      "Processing record 47 of set 0 | singkawang\n",
      "City not found. Skipping...\n",
      "Processing record 48 of set 0 | perth\n",
      "Processing record 49 of set 0 | bogdanci\n",
      "Processing record 50 of set 0 | itororo\n",
      "Processing record 0 of set 1 | beaumont\n",
      "Processing record 1 of set 1 | padang\n",
      "Processing record 2 of set 1 | san rafael del sur\n",
      "Processing record 3 of set 1 | isla mujeres\n",
      "Processing record 4 of set 1 | saint-philippe\n",
      "Processing record 5 of set 1 | itarantim\n",
      "Processing record 6 of set 1 | along\n",
      "Processing record 7 of set 1 | auki\n",
      "Processing record 8 of set 1 | monterey\n",
      "Processing record 9 of set 1 | vestmannaeyjar\n",
      "Processing record 10 of set 1 | cidreira\n",
      "Processing record 11 of set 1 | armacao dos buzios\n",
      "City not found. Skipping...\n",
      "Processing record 12 of set 1 | yaring\n",
      "Processing record 13 of set 1 | fomboni\n",
      "Processing record 14 of set 1 | maryborough\n",
      "Processing record 15 of set 1 | vaini\n",
      "Processing record 16 of set 1 | jamestown\n",
      "Processing record 17 of set 1 | bredasdorp\n",
      "Processing record 18 of set 1 | ternate\n",
      "Processing record 19 of set 1 | bethel\n",
      "Processing record 20 of set 1 | yellowknife\n",
      "Processing record 21 of set 1 | swan hill\n",
      "Processing record 22 of set 1 | hermanus\n",
      "Processing record 23 of set 1 | bud\n",
      "Processing record 24 of set 1 | hilo\n",
      "Processing record 25 of set 1 | taolanaro\n",
      "City not found. Skipping...\n",
      "Processing record 26 of set 1 | finschhafen\n",
      "Processing record 27 of set 1 | zhigansk\n",
      "Processing record 28 of set 1 | kamaishi\n",
      "Processing record 29 of set 1 | bushehr\n",
      "Processing record 30 of set 1 | nong chik\n",
      "Processing record 31 of set 1 | puerto ayora\n",
      "Processing record 32 of set 1 | emerald\n",
      "Processing record 33 of set 1 | mataura\n",
      "Processing record 34 of set 1 | nizhneyansk\n",
      "City not found. Skipping...\n",
      "Processing record 35 of set 1 | tilichiki\n",
      "Processing record 36 of set 1 | gulu\n",
      "Processing record 37 of set 1 | bengkulu\n",
      "City not found. Skipping...\n",
      "Processing record 38 of set 1 | mirabela\n",
      "Processing record 39 of set 1 | aswan\n",
      "Processing record 40 of set 1 | butaritari\n",
      "Processing record 41 of set 1 | hithadhoo\n",
      "Processing record 42 of set 1 | bathsheba\n",
      "Processing record 43 of set 1 | nao-me-toque\n",
      "City not found. Skipping...\n",
      "Processing record 44 of set 1 | busselton\n",
      "Processing record 45 of set 1 | kavieng\n",
      "Processing record 46 of set 1 | ridgecrest\n",
      "Processing record 47 of set 1 | pacific grove\n",
      "Processing record 48 of set 1 | zhuhai\n",
      "Processing record 49 of set 1 | saldanha\n",
      "Processing record 50 of set 1 | japura\n",
      "Processing record 0 of set 2 | bamiantong\n",
      "Processing record 1 of set 2 | kaseda\n",
      "Processing record 2 of set 2 | adrar\n",
      "Processing record 3 of set 2 | labuhan\n",
      "Processing record 4 of set 2 | vanavara\n",
      "Processing record 5 of set 2 | ponta delgada\n",
      "Processing record 6 of set 2 | elat\n",
      "Processing record 7 of set 2 | iqaluit\n",
      "Processing record 8 of set 2 | tanout\n",
      "Processing record 9 of set 2 | salta\n",
      "Processing record 10 of set 2 | calama\n",
      "Processing record 11 of set 2 | naze\n",
      "Processing record 12 of set 2 | solovetskiy\n",
      "City not found. Skipping...\n",
      "Processing record 13 of set 2 | hami\n",
      "Processing record 14 of set 2 | kahului\n",
      "Processing record 15 of set 2 | ekuvukeni\n",
      "Processing record 16 of set 2 | mys shmidta\n",
      "City not found. Skipping...\n",
      "Processing record 17 of set 2 | nome\n",
      "Processing record 18 of set 2 | torbay\n",
      "Processing record 19 of set 2 | carnarvon\n",
      "Processing record 20 of set 2 | tasiilaq\n",
      "Processing record 21 of set 2 | jiangyou\n",
      "Processing record 22 of set 2 | nuuk\n",
      "Processing record 23 of set 2 | presidente medici\n",
      "Processing record 24 of set 2 | montlucon\n",
      "Processing record 25 of set 2 | gat\n",
      "Processing record 26 of set 2 | los llanos de aridane\n",
      "Processing record 27 of set 2 | kushiro\n",
      "Processing record 28 of set 2 | hobart\n",
      "Processing record 29 of set 2 | cherskiy\n",
      "Processing record 30 of set 2 | richards bay\n",
      "Processing record 31 of set 2 | luderitz\n",
      "Processing record 32 of set 2 | dali\n",
      "Processing record 33 of set 2 | karkaralinsk\n",
      "City not found. Skipping...\n",
      "Processing record 34 of set 2 | san cristobal\n",
      "Processing record 35 of set 2 | thompson\n",
      "Processing record 36 of set 2 | frontera\n",
      "Processing record 37 of set 2 | kaitangata\n",
      "Processing record 38 of set 2 | kichmengskiy gorodok\n",
      "Processing record 39 of set 2 | alice springs\n",
      "Processing record 40 of set 2 | mackay\n",
      "Processing record 41 of set 2 | kununurra\n",
      "Processing record 42 of set 2 | maningrida\n",
      "Processing record 43 of set 2 | cap malheureux\n",
      "Processing record 44 of set 2 | mareeba\n",
      "Processing record 45 of set 2 | marsh harbour\n",
      "Processing record 46 of set 2 | santa cruz del norte\n",
      "Processing record 47 of set 2 | comodoro rivadavia\n",
      "Processing record 48 of set 2 | goldsboro\n",
      "Processing record 49 of set 2 | cabo san lucas\n",
      "Processing record 50 of set 2 | taunggyi\n",
      "Processing record 0 of set 3 | egvekinot\n",
      "Processing record 1 of set 3 | saint-pierre\n",
      "Processing record 2 of set 3 | mahebourg\n",
      "Processing record 3 of set 3 | puerto escondido\n",
      "Processing record 4 of set 3 | alekseyevka\n",
      "Processing record 5 of set 3 | east london\n",
      "Processing record 6 of set 3 | fairbanks\n",
      "Processing record 7 of set 3 | alvand\n",
      "Processing record 8 of set 3 | prince rupert\n",
      "Processing record 9 of set 3 | pevek\n",
      "Processing record 10 of set 3 | lagoa\n",
      "Processing record 11 of set 3 | nguiu\n",
      "City not found. Skipping...\n",
      "Processing record 12 of set 3 | chuy\n",
      "Processing record 13 of set 3 | rocha\n",
      "Processing record 14 of set 3 | khatanga\n",
      "Processing record 15 of set 3 | mount isa\n",
      "Processing record 16 of set 3 | samusu\n",
      "City not found. Skipping...\n",
      "Processing record 17 of set 3 | tumannyy\n",
      "City not found. Skipping...\n",
      "Processing record 18 of set 3 | tarbagatay\n",
      "Processing record 19 of set 3 | sal rei\n",
      "Processing record 20 of set 3 | barrow\n",
      "Processing record 21 of set 3 | asau\n",
      "City not found. Skipping...\n",
      "Processing record 22 of set 3 | suicheng\n",
      "Processing record 23 of set 3 | eydhafushi\n",
      "Processing record 24 of set 3 | coquimbo\n",
      "Processing record 25 of set 3 | hauknes\n",
      "Processing record 26 of set 3 | yangjiang\n",
      "Processing record 27 of set 3 | lavrentiya\n",
      "Processing record 28 of set 3 | cayenne\n",
      "Processing record 29 of set 3 | chifeng\n",
      "Processing record 30 of set 3 | gallup\n",
      "Processing record 31 of set 3 | meulaboh\n",
      "Processing record 32 of set 3 | kegalla\n",
      "City not found. Skipping...\n",
      "Processing record 33 of set 3 | port macquarie\n",
      "Processing record 34 of set 3 | leningradskiy\n",
      "Processing record 35 of set 3 | koungou\n",
      "City not found. Skipping...\n",
      "Processing record 36 of set 3 | chapais\n",
      "Processing record 37 of set 3 | imphal\n",
      "Processing record 38 of set 3 | caravelas\n",
      "Processing record 39 of set 3 | narodychi\n",
      "Processing record 40 of set 3 | novyy urengoy\n",
      "Processing record 41 of set 3 | kodiak\n",
      "Processing record 42 of set 3 | norman wells\n",
      "Processing record 43 of set 3 | faya\n",
      "Processing record 44 of set 3 | seminole\n",
      "Processing record 45 of set 3 | abeche\n",
      "Processing record 46 of set 3 | pisco\n",
      "Processing record 47 of set 3 | kimovsk\n",
      "Processing record 48 of set 3 | victoria\n",
      "Processing record 49 of set 3 | illoqqortoormiut\n",
      "City not found. Skipping...\n",
      "Processing record 50 of set 3 | wajir\n",
      "Processing record 0 of set 4 | saleaula\n",
      "City not found. Skipping...\n",
      "Processing record 1 of set 4 | inyonga\n",
      "Processing record 2 of set 4 | bardiyah\n",
      "City not found. Skipping...\n",
      "Processing record 3 of set 4 | mathathane\n",
      "Processing record 4 of set 4 | provideniya\n",
      "Processing record 5 of set 4 | puerto madryn\n",
      "Processing record 6 of set 4 | slubice\n",
      "Processing record 7 of set 4 | salalah\n",
      "Processing record 8 of set 4 | belaya gora\n",
      "Processing record 9 of set 4 | atar\n",
      "Processing record 10 of set 4 | warora\n",
      "Processing record 11 of set 4 | laguna\n",
      "Processing record 12 of set 4 | kirakira\n",
      "Processing record 13 of set 4 | kudahuvadhoo\n",
      "Processing record 14 of set 4 | souillac\n",
      "Processing record 15 of set 4 | marcona\n",
      "City not found. Skipping...\n",
      "Processing record 16 of set 4 | tosya\n",
      "Processing record 17 of set 4 | longyearbyen\n",
      "Processing record 18 of set 4 | baie-comeau\n",
      "Processing record 19 of set 4 | faanui\n",
      "Processing record 20 of set 4 | nemuro\n",
      "Processing record 21 of set 4 | sitka\n",
      "Processing record 22 of set 4 | tikapur\n",
      "Processing record 23 of set 4 | celestun\n",
      "Processing record 24 of set 4 | selishche\n",
      "City not found. Skipping...\n",
      "Processing record 25 of set 4 | eskasem\n",
      "City not found. Skipping...\n",
      "Processing record 26 of set 4 | dikson\n",
      "Processing record 27 of set 4 | melfi\n",
      "Processing record 28 of set 4 | dhidhdhoo\n",
      "Processing record 29 of set 4 | nizhniy kuranakh\n",
      "Processing record 30 of set 4 | pangai\n",
      "Processing record 31 of set 4 | lebu\n",
      "Processing record 32 of set 4 | clyde river\n",
      "Processing record 33 of set 4 | barawe\n",
      "City not found. Skipping...\n",
      "Processing record 34 of set 4 | whitehorse\n",
      "Processing record 35 of set 4 | airai\n",
      "Processing record 36 of set 4 | upernavik\n",
      "Processing record 37 of set 4 | stamsund\n",
      "City not found. Skipping...\n",
      "Processing record 38 of set 4 | mounana\n",
      "Processing record 39 of set 4 | rio gallegos\n",
      "Processing record 40 of set 4 | severobaykalsk\n",
      "Processing record 41 of set 4 | valenza\n",
      "Processing record 42 of set 4 | magadi\n",
      "Processing record 43 of set 4 | soligalich\n",
      "Processing record 44 of set 4 | eyl\n",
      "Processing record 45 of set 4 | mogadishu\n",
      "Processing record 46 of set 4 | safaqis\n",
      "City not found. Skipping...\n",
      "Processing record 47 of set 4 | saint george\n",
      "Processing record 48 of set 4 | shahr-e babak\n",
      "Processing record 49 of set 4 | aklavik\n",
      "Processing record 50 of set 4 | tabukiniberu\n",
      "City not found. Skipping...\n",
      "Processing record 0 of set 5 | puerto quijarro\n",
      "Processing record 1 of set 5 | nizwa\n",
      "Processing record 2 of set 5 | attawapiskat\n",
      "City not found. Skipping...\n",
      "Processing record 3 of set 5 | orsha\n",
      "Processing record 4 of set 5 | buchanan\n",
      "Processing record 5 of set 5 | mayskiy\n",
      "Processing record 6 of set 5 | mlonggo\n",
      "Processing record 7 of set 5 | dembi dolo\n",
      "Processing record 8 of set 5 | barentsburg\n",
      "City not found. Skipping...\n",
      "Processing record 9 of set 5 | lompoc\n",
      "Processing record 10 of set 5 | sechura\n",
      "Processing record 11 of set 5 | waingapu\n",
      "Processing record 12 of set 5 | la palma\n",
      "Processing record 13 of set 5 | mentok\n",
      "City not found. Skipping...\n",
      "Processing record 14 of set 5 | oksfjord\n",
      "Processing record 15 of set 5 | sesimbra\n",
      "Processing record 16 of set 5 | ust-tsilma\n",
      "Processing record 17 of set 5 | lasa\n",
      "Processing record 18 of set 5 | punakha\n",
      "Processing record 19 of set 5 | margate\n",
      "Processing record 20 of set 5 | marzuq\n",
      "Processing record 21 of set 5 | uwayl\n",
      "City not found. Skipping...\n",
      "Processing record 22 of set 5 | giyani\n",
      "Processing record 23 of set 5 | dargaville\n",
      "Processing record 24 of set 5 | karratha\n",
      "Processing record 25 of set 5 | menongue\n",
      "Processing record 26 of set 5 | ugoofaaru\n",
      "Processing record 27 of set 5 | roswell\n",
      "Processing record 28 of set 5 | galesong\n",
      "Processing record 29 of set 5 | coos bay\n",
      "Processing record 30 of set 5 | danshui\n",
      "Processing record 31 of set 5 | muisne\n",
      "Processing record 32 of set 5 | chaohu\n",
      "Processing record 33 of set 5 | lolua\n",
      "City not found. Skipping...\n",
      "Processing record 34 of set 5 | genhe\n",
      "Processing record 35 of set 5 | ilulissat\n",
      "Processing record 36 of set 5 | itoman\n",
      "Processing record 37 of set 5 | mongomo\n",
      "Processing record 38 of set 5 | miri\n",
      "Processing record 39 of set 5 | broome\n",
      "Processing record 40 of set 5 | dolores\n",
      "Processing record 41 of set 5 | meadow lake\n",
      "Processing record 42 of set 5 | kimbe\n",
      "Processing record 43 of set 5 | barra do garcas\n",
      "Processing record 44 of set 5 | xining\n",
      "Processing record 45 of set 5 | santa fe\n",
      "Processing record 46 of set 5 | warwick\n",
      "Processing record 47 of set 5 | gamba\n",
      "Processing record 48 of set 5 | bindi\n",
      "Processing record 49 of set 5 | abalak\n",
      "Processing record 50 of set 5 | chingirlau\n",
      "Processing record 0 of set 6 | tres lagoas\n",
      "City not found. Skipping...\n",
      "Processing record 1 of set 6 | vila franca do campo\n",
      "Processing record 2 of set 6 | dana point\n",
      "Processing record 3 of set 6 | usak\n",
      "Processing record 4 of set 6 | katobu\n",
      "Processing record 5 of set 6 | bara\n",
      "Processing record 6 of set 6 | qaanaaq\n",
      "Processing record 7 of set 6 | macaboboni\n",
      "City not found. Skipping...\n",
      "Processing record 8 of set 6 | grand gaube\n",
      "Processing record 9 of set 6 | san jose\n",
      "Processing record 10 of set 6 | sursk\n",
      "Processing record 11 of set 6 | kadoma\n",
      "Processing record 12 of set 6 | arraial do cabo\n",
      "Processing record 13 of set 6 | isangel\n",
      "Processing record 14 of set 6 | husavik\n",
      "Processing record 15 of set 6 | vila velha\n",
      "Processing record 16 of set 6 | conde\n",
      "Processing record 17 of set 6 | louis trichardt\n",
      "Processing record 18 of set 6 | oussouye\n",
      "Processing record 19 of set 6 | chicama\n",
      "Processing record 20 of set 6 | hofn\n",
      "Processing record 21 of set 6 | las vegas\n",
      "Processing record 22 of set 6 | birjand\n",
      "Processing record 23 of set 6 | banikoara\n",
      "Processing record 24 of set 6 | sale\n",
      "Processing record 25 of set 6 | katangli\n",
      "Processing record 26 of set 6 | isla vista\n",
      "Processing record 27 of set 6 | henties bay\n",
      "Processing record 28 of set 6 | gulshat\n",
      "City not found. Skipping...\n",
      "Processing record 29 of set 6 | bridlington\n",
      "Processing record 30 of set 6 | pakokku\n",
      "Processing record 31 of set 6 | anadyr\n",
      "Processing record 32 of set 6 | pangnirtung\n",
      "Processing record 33 of set 6 | sweetwater\n",
      "Processing record 34 of set 6 | plastun\n",
      "Processing record 35 of set 6 | wattegama\n",
      "Processing record 36 of set 6 | ngukurr\n",
      "City not found. Skipping...\n",
      "Processing record 37 of set 6 | masalli\n",
      "Processing record 38 of set 6 | campbell river\n",
      "Processing record 39 of set 6 | asmara\n",
      "Processing record 40 of set 6 | monrovia\n",
      "Processing record 41 of set 6 | kalulushi\n",
      "Processing record 42 of set 6 | constantine\n",
      "Processing record 43 of set 6 | superior\n",
      "Processing record 44 of set 6 | burnie\n",
      "Processing record 45 of set 6 | bambous virieux\n",
      "Processing record 46 of set 6 | lucapa\n",
      "Processing record 47 of set 6 | manta\n",
      "Processing record 48 of set 6 | puerto ayacucho\n",
      "Processing record 49 of set 6 | qui nhon\n",
      "City not found. Skipping...\n",
      "Processing record 50 of set 6 | deputatskiy\n",
      "Processing record 0 of set 7 | yarim\n",
      "Processing record 1 of set 7 | tsihombe\n",
      "City not found. Skipping...\n",
      "Processing record 2 of set 7 | baculin\n",
      "Processing record 3 of set 7 | talnakh\n",
      "Processing record 4 of set 7 | fortuna\n",
      "Processing record 5 of set 7 | mocambique\n",
      "City not found. Skipping...\n",
      "Processing record 6 of set 7 | balakhta\n",
      "Processing record 7 of set 7 | ifo\n",
      "Processing record 8 of set 7 | kualakapuas\n",
      "Processing record 9 of set 7 | wanning\n",
      "Processing record 10 of set 7 | alekseyevsk\n",
      "Processing record 11 of set 7 | conakry\n",
      "Processing record 12 of set 7 | severo-kurilsk\n",
      "Processing record 13 of set 7 | esperance\n",
      "Processing record 14 of set 7 | aasiaat\n",
      "Processing record 15 of set 7 | rundu\n",
      "Processing record 16 of set 7 | walvis bay\n",
      "Processing record 17 of set 7 | santa maria\n",
      "Processing record 18 of set 7 | evensk\n",
      "Processing record 19 of set 7 | petropavlovsk-kamchatskiy\n",
      "Processing record 20 of set 7 | bulolo\n",
      "Processing record 21 of set 7 | agadez\n",
      "Processing record 22 of set 7 | billings\n",
      "Processing record 23 of set 7 | jiexiu\n",
      "Processing record 24 of set 7 | tifton\n",
      "Processing record 25 of set 7 | jambi\n",
      "Processing record 26 of set 7 | sotouboua\n",
      "Processing record 27 of set 7 | san ciro de acosta\n",
      "Processing record 28 of set 7 | tiksi\n",
      "Processing record 29 of set 7 | ondjiva\n",
      "Processing record 30 of set 7 | teguldet\n",
      "Processing record 31 of set 7 | hualmay\n",
      "Processing record 32 of set 7 | champerico\n",
      "Processing record 33 of set 7 | dwarka\n",
      "Processing record 34 of set 7 | kachiry\n",
      "Processing record 35 of set 7 | septemvri\n",
      "Processing record 36 of set 7 | alto araguaia\n",
      "Processing record 37 of set 7 | ambilobe\n",
      "Processing record 38 of set 7 | amboasary\n",
      "Processing record 39 of set 7 | gushikawa\n",
      "Processing record 40 of set 7 | sehithwa\n",
      "Processing record 41 of set 7 | port victoria\n",
      "Processing record 42 of set 7 | hasaki\n",
      "Processing record 43 of set 7 | kruisfontein\n",
      "Processing record 44 of set 7 | andenes\n",
      "City not found. Skipping...\n",
      "Processing record 45 of set 7 | manokwari\n",
      "Processing record 46 of set 7 | baykit\n",
      "Processing record 47 of set 7 | sorland\n",
      "Processing record 48 of set 7 | puerto carreno\n",
      "Processing record 49 of set 7 | bargal\n",
      "City not found. Skipping...\n",
      "Processing record 50 of set 7 | paramithia\n",
      "City not found. Skipping...\n",
      "Processing record 0 of set 8 | dakoro\n",
      "Processing record 1 of set 8 | tahta\n",
      "City not found. Skipping...\n",
      "Processing record 2 of set 8 | cubuk\n",
      "Processing record 3 of set 8 | avera\n",
      "Processing record 4 of set 8 | custoias\n",
      "Processing record 5 of set 8 | chagda\n",
      "City not found. Skipping...\n",
      "Processing record 6 of set 8 | ancud\n",
      "Processing record 7 of set 8 | geraldton\n",
      "Processing record 8 of set 8 | loding\n",
      "Processing record 9 of set 8 | quatre cocos\n",
      "Processing record 10 of set 8 | kamenka\n",
      "Processing record 11 of set 8 | codrington\n",
      "Processing record 12 of set 8 | chokurdakh\n",
      "Processing record 13 of set 8 | guiong\n",
      "Processing record 14 of set 8 | morro bay\n",
      "Processing record 15 of set 8 | paamiut\n",
      "Processing record 16 of set 8 | ornskoldsvik\n",
      "Processing record 17 of set 8 | imbituba\n",
      "Processing record 18 of set 8 | sorvag\n",
      "City not found. Skipping...\n",
      "Processing record 19 of set 8 | izhma\n",
      "Processing record 20 of set 8 | la ronge\n",
      "Processing record 21 of set 8 | varzea da palma\n",
      "Processing record 22 of set 8 | alofi\n",
      "Processing record 23 of set 8 | port blair\n",
      "Processing record 24 of set 8 | dunedin\n",
      "Processing record 25 of set 8 | dudinka\n",
      "Processing record 26 of set 8 | teeli\n",
      "Processing record 27 of set 8 | namibe\n",
      "Processing record 28 of set 8 | port hardy\n",
      "Processing record 29 of set 8 | algiers\n",
      "Processing record 30 of set 8 | oga\n",
      "Processing record 31 of set 8 | nishihara\n",
      "Processing record 32 of set 8 | campos novos\n",
      "Processing record 33 of set 8 | maua\n",
      "Processing record 34 of set 8 | goderich\n",
      "Processing record 35 of set 8 | pafos\n",
      "City not found. Skipping...\n",
      "Processing record 36 of set 8 | sao joao da barra\n",
      "Processing record 37 of set 8 | shahpura\n",
      "Processing record 38 of set 8 | mehamn\n",
      "Processing record 39 of set 8 | namatanai\n",
      "Processing record 40 of set 8 | salamiyah\n",
      "Processing record 41 of set 8 | hoquiam\n",
      "Processing record 42 of set 8 | tura\n",
      "Processing record 43 of set 8 | paita\n",
      "Processing record 44 of set 8 | pryazha\n",
      "Processing record 45 of set 8 | majene\n",
      "Processing record 46 of set 8 | lewiston\n",
      "Processing record 47 of set 8 | dehloran\n",
      "Processing record 48 of set 8 | mar del plata\n",
      "Processing record 49 of set 8 | sakaiminato\n",
      "Processing record 50 of set 8 | beringovskiy\n",
      "Processing record 0 of set 9 | floresta\n",
      "Processing record 1 of set 9 | tabas\n",
      "Processing record 2 of set 9 | mrirt\n",
      "City not found. Skipping...\n",
      "Processing record 3 of set 9 | sola\n",
      "Processing record 4 of set 9 | tancuayalab\n",
      "City not found. Skipping...\n",
      "Processing record 5 of set 9 | saint-joseph\n",
      "Processing record 6 of set 9 | russkiy kameshkir\n",
      "Processing record 7 of set 9 | berlevag\n",
      "Processing record 8 of set 9 | fort-shevchenko\n",
      "Processing record 9 of set 9 | cravo norte\n",
      "Processing record 10 of set 9 | kuhdasht\n",
      "Processing record 11 of set 9 | pomabamba\n",
      "Processing record 12 of set 9 | altayskoye\n",
      "Processing record 13 of set 9 | wau\n",
      "City not found. Skipping...\n",
      "Processing record 14 of set 9 | yumen\n",
      "Processing record 15 of set 9 | poum\n",
      "Processing record 16 of set 9 | shingu\n",
      "Processing record 17 of set 9 | mount gambier\n",
      "Processing record 18 of set 9 | lavra\n",
      "Processing record 19 of set 9 | ahuimanu\n",
      "Processing record 20 of set 9 | khorixas\n",
      "Processing record 21 of set 9 | lorengau\n",
      "Processing record 22 of set 9 | troitsko-pechorsk\n",
      "Processing record 23 of set 9 | mayor pablo lagerenza\n",
      "Processing record 24 of set 9 | thunder bay\n",
      "Processing record 25 of set 9 | homer\n",
      "Processing record 26 of set 9 | haines junction\n",
      "Processing record 27 of set 9 | hirson\n",
      "Processing record 28 of set 9 | palmer\n",
      "Processing record 29 of set 9 | ankpa\n",
      "Processing record 30 of set 9 | yushala\n",
      "Processing record 31 of set 9 | cody\n",
      "Processing record 32 of set 9 | nicoya\n",
      "Processing record 33 of set 9 | boguchany\n",
      "Processing record 34 of set 9 | ende\n",
      "Processing record 35 of set 9 | san patricio\n",
      "Processing record 36 of set 9 | autun\n",
      "Processing record 37 of set 9 | garissa\n",
      "Processing record 38 of set 9 | nanortalik\n",
      "Processing record 39 of set 9 | hammerfest\n",
      "Processing record 40 of set 9 | camacha\n",
      "Processing record 41 of set 9 | shahrud\n",
      "Processing record 42 of set 9 | dangriga\n",
      "Processing record 43 of set 9 | whitehaven\n",
      "Processing record 44 of set 9 | najran\n",
      "Processing record 45 of set 9 | muros\n",
      "Processing record 46 of set 9 | bahia honda\n",
      "Processing record 47 of set 9 | maniitsoq\n",
      "Processing record 48 of set 9 | bilma\n",
      "Processing record 49 of set 9 | abu kamal\n",
      "Processing record 50 of set 9 | saquena\n",
      "Processing record 0 of set 10 | maturin\n",
      "Processing record 1 of set 10 | sangar\n",
      "Processing record 2 of set 10 | severodvinsk\n",
      "Processing record 3 of set 10 | saint-francois\n",
      "Processing record 4 of set 10 | kenai\n",
      "Processing record 5 of set 10 | ondangwa\n",
      "Processing record 6 of set 10 | boa vista\n",
      "Processing record 7 of set 10 | amderma\n",
      "City not found. Skipping...\n",
      "Processing record 8 of set 10 | lata\n",
      "Processing record 9 of set 10 | butembo\n",
      "Processing record 10 of set 10 | mitsamiouli\n",
      "Processing record 11 of set 10 | druzhba\n",
      "Processing record 12 of set 10 | matola\n",
      "Processing record 13 of set 10 | axim\n",
      "Processing record 14 of set 10 | lawrenceburg\n",
      "Processing record 15 of set 10 | matara\n",
      "Processing record 16 of set 10 | grimshaw\n",
      "-------------------------\n",
      "Data Retrieval Complete\n",
      "-------------------------\n"
     ]
    }
   ],
   "source": [
    "# Get latitude and temperature for cities\n",
    "# set up lists to hold reponse info\n",
    "# records = 0-50\n",
    "# sets = 1-15,,\n",
    "record_counter = 0\n",
    "set_counter = 0\n",
    "records = []\n",
    "sets = []\n",
    "\n",
    "url = \"http://api.openweathermap.org/data/2.5/weather?\"\n",
    "units = \"metric\"\n",
    "\n",
    "print(f\"-----------------------------\")\n",
    "print(f\"Beginning Data Retrieval\")\n",
    "print(f\"-----------------------------\")\n",
    "\n",
    "# Loop through the list of cities and perform a request for data on each\n",
    "for city in cities:\n",
    "# Build partial query URL\n",
    "    query_url = f\"{url}appid={weather_api_key}&units={units}&q=\"\n",
    "    response = requests.get(query_url + city).json()\n",
    "    if record_counter < 50:\n",
    "        record_counter += 1\n",
    "    else:\n",
    "        set_counter += 1\n",
    "        record_counter = 0\n",
    "    print('Processing record {} of set {} | {}'.format(record_counter, set_counter, city))\n",
    "\n",
    "    \n",
    "    try:\n",
    "        lat.append(response['coord']['lat'])\n",
    "        lng.append(response['coord']['lon'])\n",
    "        temp.append(response['main']['temp'])\n",
    "        temp_max.append(response['main']['temp_max'])\n",
    "        cloudiness.append(response['clouds']['all'])\n",
    "        country.append(response['sys']['country'])\n",
    "        date.append(response['dt'])\n",
    "        Humidity.append(response['main']['humidity'])\n",
    "        wind_speed.append(response['wind']['speed'])\n",
    "        city_name.append(response['name'])\n",
    "        \n",
    "    except:\n",
    "        print(f\"City not found. Skipping...\")\n",
    "        pass\n",
    "    \n",
    "print('-------------------------')\n",
    "print('Data Retrieval Complete')\n",
    "print('-------------------------')    "
   ]
  },
  {
   "cell_type": "code",
   "execution_count": null,
   "metadata": {},
   "outputs": [],
   "source": []
  },
  {
   "cell_type": "markdown",
   "metadata": {},
   "source": [
    "Beginning Data Retrieval     \n",
    "-----------------------------\n",
    "Processing Record 1 of Set 1 | severo-kurilsk\n",
    "Processing Record 2 of Set 1 | darhan\n",
    "Processing Record 3 of Set 1 | tarakan"
   ]
  },
  {
   "cell_type": "markdown",
   "metadata": {},
   "source": [
    "### Convert Raw Data to DataFrame\n",
    "* Export the city data into a .csv.\n",
    "* Display the DataFrame"
   ]
  },
  {
   "cell_type": "code",
   "execution_count": 13,
   "metadata": {},
   "outputs": [
    {
     "data": {
      "text/html": [
       "<div>\n",
       "<style scoped>\n",
       "    .dataframe tbody tr th:only-of-type {\n",
       "        vertical-align: middle;\n",
       "    }\n",
       "\n",
       "    .dataframe tbody tr th {\n",
       "        vertical-align: top;\n",
       "    }\n",
       "\n",
       "    .dataframe thead th {\n",
       "        text-align: right;\n",
       "    }\n",
       "</style>\n",
       "<table border=\"1\" class=\"dataframe\">\n",
       "  <thead>\n",
       "    <tr style=\"text-align: right;\">\n",
       "      <th></th>\n",
       "      <th>city</th>\n",
       "      <th>Cloudiness</th>\n",
       "      <th>Country</th>\n",
       "      <th>Date</th>\n",
       "      <th>Humidity</th>\n",
       "      <th>Lat</th>\n",
       "      <th>Lng</th>\n",
       "      <th>Max Temp</th>\n",
       "      <th>Wind Speed</th>\n",
       "    </tr>\n",
       "  </thead>\n",
       "  <tbody>\n",
       "    <tr>\n",
       "      <td>0</td>\n",
       "      <td>bluff</td>\n",
       "      <td>23.0</td>\n",
       "      <td>AU</td>\n",
       "      <td>1.578341e+09</td>\n",
       "      <td>79.0</td>\n",
       "      <td>-23.58</td>\n",
       "      <td>149.07</td>\n",
       "      <td>23.89</td>\n",
       "      <td>5.41</td>\n",
       "    </tr>\n",
       "    <tr>\n",
       "      <td>1</td>\n",
       "      <td>klaksvik</td>\n",
       "      <td>21.0</td>\n",
       "      <td>FO</td>\n",
       "      <td>1.578341e+09</td>\n",
       "      <td>70.0</td>\n",
       "      <td>62.23</td>\n",
       "      <td>-6.59</td>\n",
       "      <td>6.00</td>\n",
       "      <td>12.90</td>\n",
       "    </tr>\n",
       "    <tr>\n",
       "      <td>2</td>\n",
       "      <td>kokstad</td>\n",
       "      <td>66.0</td>\n",
       "      <td>ZA</td>\n",
       "      <td>1.578341e+09</td>\n",
       "      <td>98.0</td>\n",
       "      <td>-30.55</td>\n",
       "      <td>29.42</td>\n",
       "      <td>16.27</td>\n",
       "      <td>1.05</td>\n",
       "    </tr>\n",
       "    <tr>\n",
       "      <td>3</td>\n",
       "      <td>staraya poltavka</td>\n",
       "      <td>100.0</td>\n",
       "      <td>RU</td>\n",
       "      <td>1.578341e+09</td>\n",
       "      <td>98.0</td>\n",
       "      <td>50.48</td>\n",
       "      <td>46.48</td>\n",
       "      <td>0.76</td>\n",
       "      <td>2.41</td>\n",
       "    </tr>\n",
       "    <tr>\n",
       "      <td>4</td>\n",
       "      <td>tuatapere</td>\n",
       "      <td>100.0</td>\n",
       "      <td>NZ</td>\n",
       "      <td>1.578341e+09</td>\n",
       "      <td>87.0</td>\n",
       "      <td>-46.13</td>\n",
       "      <td>167.69</td>\n",
       "      <td>11.67</td>\n",
       "      <td>1.34</td>\n",
       "    </tr>\n",
       "  </tbody>\n",
       "</table>\n",
       "</div>"
      ],
      "text/plain": [
       "               city  Cloudiness Country          Date  Humidity    Lat  \\\n",
       "0             bluff        23.0      AU  1.578341e+09      79.0 -23.58   \n",
       "1          klaksvik        21.0      FO  1.578341e+09      70.0  62.23   \n",
       "2           kokstad        66.0      ZA  1.578341e+09      98.0 -30.55   \n",
       "3  staraya poltavka       100.0      RU  1.578341e+09      98.0  50.48   \n",
       "4         tuatapere       100.0      NZ  1.578341e+09      87.0 -46.13   \n",
       "\n",
       "      Lng  Max Temp  Wind Speed  \n",
       "0  149.07     23.89        5.41  \n",
       "1   -6.59      6.00       12.90  \n",
       "2   29.42     16.27        1.05  \n",
       "3   46.48      0.76        2.41  \n",
       "4  167.69     11.67        1.34  "
      ]
     },
     "execution_count": 13,
     "metadata": {},
     "output_type": "execute_result"
    }
   ],
   "source": [
    "weather_dict = {\n",
    "                \"city\": cities,\n",
    "                \"Cloudiness\": cloudiness,\n",
    "                \"Country\": country,\n",
    "                \"Date\": date,\n",
    "                \"Humidity\": Humidity,\n",
    "                \"Lat\": lat,\n",
    "                \"Lng\": lng,\n",
    "                \"Max Temp\": temp_max,\n",
    "                \"Wind Speed\": wind_speed\n",
    "                }\n",
    "weather_data = pd.DataFrame({k: pd.Series(l) for k, l in weather_dict.items()})\n",
    "weather_data.head()\n"
   ]
  },
  {
   "cell_type": "code",
   "execution_count": 39,
   "metadata": {},
   "outputs": [
    {
     "data": {
      "text/plain": [
       "city          526\n",
       "Cloudiness    473\n",
       "Country       473\n",
       "Date          473\n",
       "Humidity      473\n",
       "Lat           473\n",
       "Lng           473\n",
       "Max Temp      473\n",
       "Wind Speed    473\n",
       "dtype: int64"
      ]
     },
     "execution_count": 39,
     "metadata": {},
     "output_type": "execute_result"
    }
   ],
   "source": [
    "weather_data.count()"
   ]
  },
  {
   "cell_type": "code",
   "execution_count": 40,
   "metadata": {},
   "outputs": [],
   "source": [
    "# Save dataframe to a new CSV file\n",
    "weather_data.to_csv(\"city_weather.csv\",\n",
    "                  encoding=\"utf-8\", index=False, header=True)"
   ]
  },
  {
   "cell_type": "markdown",
   "metadata": {},
   "source": [
    "### Plotting the Data\n",
    "* Use proper labeling of the plots using plot titles (including date of analysis) and axes labels.\n",
    "* Save the plotted figures as .pngs."
   ]
  },
  {
   "cell_type": "markdown",
   "metadata": {},
   "source": [
    "#### Latitude vs. Temperature Plot"
   ]
  },
  {
   "cell_type": "code",
   "execution_count": 18,
   "metadata": {},
   "outputs": [
    {
     "data": {
      "image/png": "[encoded data removed]",
      "text/plain": [
       "<Figure size 432x288 with 1 Axes>"
      ]
     },
     "metadata": {
      "needs_background": "light"
     },
     "output_type": "display_data"
    }
   ],
   "source": [
    "# Build a scatter plot for each data type\n",
    "plt.scatter(weather_data[\"Lat\"], weather_data[\"Max Temp\"], marker=\"o\")\n",
    "\n",
    "# Incorporate the other graph properties\n",
    "plt.title(\"City Latitude vs. Max Temperature(01/03/20)\")\n",
    "plt.ylabel(\"Max Temperature (F)\")\n",
    "plt.xlabel(\"Latitude\")\n",
    "plt.grid(True)\n",
    "\n",
    "# Save the figure\n",
    "plt.savefig(\"CityLatitude_vs_MaxTemperature.png\")\n",
    "\n",
    "# Show plot\n",
    "plt.show()"
   ]
  },
  {
   "cell_type": "markdown",
   "metadata": {},
   "source": [
    "#### Latitude vs. Humidity Plot"
   ]
  },
  {
   "cell_type": "code",
   "execution_count": 17,
   "metadata": {},
   "outputs": [
    {
     "data": {
      "image/png": "[encoded data removed]",
      "text/plain": [
       "<Figure size 432x288 with 1 Axes>"
      ]
     },
     "metadata": {
      "needs_background": "light"
     },
     "output_type": "display_data"
    }
   ],
   "source": [
    "# Build a scatter plot for each data type\n",
    "plt.scatter(weather_data[\"Lat\"], weather_data[\"Humidity\"], marker=\"o\")\n",
    "\n",
    "# Incorporate the other graph properties\n",
    "plt.title(\"City Latitude vs. Humidity(01/03/20)\")\n",
    "plt.ylabel(\"Humidity (%)\")\n",
    "plt.xlabel(\"Latitude\")\n",
    "plt.grid(True)\n",
    "\n",
    "# Save the figure\n",
    "plt.savefig(\"CityLatitude_vs_Humidity.png\")\n",
    "\n",
    "# Show plot\n",
    "plt.show()"
   ]
  },
  {
   "cell_type": "markdown",
   "metadata": {},
   "source": [
    "#### Latitude vs. Cloudiness Plot"
   ]
  },
  {
   "cell_type": "code",
   "execution_count": 19,
   "metadata": {},
   "outputs": [
    {
     "data": {
      "image/png": "[encoded data removed]",
      "text/plain": [
       "<Figure size 432x288 with 1 Axes>"
      ]
     },
     "metadata": {
      "needs_background": "light"
     },
     "output_type": "display_data"
    }
   ],
   "source": [
    "# Build a scatter plot for each data type\n",
    "plt.scatter(weather_data[\"Lat\"], weather_data[\"Cloudiness\"], marker=\"o\")\n",
    "\n",
    "# Incorporate the other graph properties\n",
    "plt.title(\"City Latitude vs. Cloudiness (01/03/20)\")\n",
    "plt.ylabel(\"Cloudiness (%)\")\n",
    "plt.xlabel(\"Latitude\")\n",
    "plt.grid(True)\n",
    "\n",
    "# Save the figure\n",
    "plt.savefig(\"CityLatitude_vs_Cloudiness.png\")\n",
    "\n",
    "# Show plot\n",
    "plt.show()"
   ]
  },
  {
   "cell_type": "markdown",
   "metadata": {},
   "source": [
    "#### Latitude vs. Wind Speed Plot"
   ]
  },
  {
   "cell_type": "code",
   "execution_count": 20,
   "metadata": {},
   "outputs": [
    {
     "data": {
      "image/png": "[encoded data removed]",
      "text/plain": [
       "<Figure size 432x288 with 1 Axes>"
      ]
     },
     "metadata": {
      "needs_background": "light"
     },
     "output_type": "display_data"
    }
   ],
   "source": [
    "# Build a scatter plot for each data type\n",
    "plt.scatter(weather_data[\"Lat\"], weather_data[\"Wind Speed\"], marker=\"o\")\n",
    "\n",
    "# Incorporate the other graph properties\n",
    "plt.title(\"City Latitude vs. Wind Speed (01/03/20)\")\n",
    "plt.ylabel(\"Wind Speed (mph)\")\n",
    "plt.xlabel(\"Latitude\")\n",
    "plt.grid(True)\n",
    "\n",
    "# Save the figure\n",
    "plt.savefig(\"CityLatitude_vs_WindSpeed.png\")\n",
    "\n",
    "# Show plot\n",
    "plt.show()"
   ]
  },
  {
   "cell_type": "markdown",
   "metadata": {},
   "source": [
    "## Linear Regression"
   ]
  },
  {
   "cell_type": "code",
   "execution_count": 30,
   "metadata": {},
   "outputs": [],
   "source": [
    "def LinearRegressionplot(x_values, y_values):\n",
    "\n",
    "# Perform a linear regression on Max Temp vs. latitude\n",
    "    (slope, intercept, rvalue, pvalue, stderr) = stats.linregress(x_values, y_values)\n",
    "# Get regression values\n",
    "    regress_values = x_values * slope + intercept\n",
    "# Create line equation string\n",
    "    line_eq = \"y = \" + str(round(slope,2)) + \"x +\" + str(round(intercept,2))\n",
    "# Create Plot\n",
    "    plt.scatter(x_values,y_values)\n",
    "    plt.plot(x_values,regress_values,\"r-\" )\n",
    "\n",
    "# Label plot and annotate the line equation\n",
    "    plt.xlabel('Latitude')\n",
    "    plt.ylabel(str(y_values.name))\n",
    "    plt.annotate(line_eq,(0,0), fontsize=15,color=\"red\")\n",
    "\n",
    "# Print r square value\n",
    "    print(f\"The r-squared is: {rvalue}\")\n",
    "\n",
    "# Show plot\n",
    "plt.show()"
   ]
  },
  {
   "cell_type": "code",
   "execution_count": 22,
   "metadata": {},
   "outputs": [],
   "source": [
    "# Create Northern and Southern Hemisphere DataFrames\n",
    "Northern_Hemisphere = weather_data.loc[weather_data['Lat'] > 0] \n",
    "Sorthern_Hemisphere = weather_data.loc[weather_data['Lat'] < 0] "
   ]
  },
  {
   "cell_type": "markdown",
   "metadata": {},
   "source": [
    "####  Northern Hemisphere - Max Temp vs. Latitude Linear Regression"
   ]
  },
  {
   "cell_type": "code",
   "execution_count": 31,
   "metadata": {},
   "outputs": [
    {
     "name": "stdout",
     "output_type": "stream",
     "text": [
      "The r-squared is: -0.8708742325886917\n"
     ]
    },
    {
     "data": {
      "image/png": "[encoded data removed]",
      "text/plain": [
       "<Figure size 432x288 with 1 Axes>"
      ]
     },
     "metadata": {
      "needs_background": "light"
     },
     "output_type": "display_data"
    }
   ],
   "source": [
    "x_values = Northern_Hemisphere[\"Lat\"]\n",
    "y_values = Northern_Hemisphere[\"Max Temp\"]\n",
    "LinearRegressionplot(x_values, y_values)"
   ]
  },
  {
   "cell_type": "markdown",
   "metadata": {},
   "source": [
    "####  Southern Hemisphere - Max Temp vs. Latitude Linear Regression"
   ]
  },
  {
   "cell_type": "code",
   "execution_count": 32,
   "metadata": {},
   "outputs": [
    {
     "name": "stdout",
     "output_type": "stream",
     "text": [
      "The r-squared is: 0.5286863288999719\n"
     ]
    },
    {
     "data": {
      "image/png": "[encoded data removed]",
      "text/plain": [
       "<Figure size 432x288 with 1 Axes>"
      ]
     },
     "metadata": {
      "needs_background": "light"
     },
     "output_type": "display_data"
    }
   ],
   "source": [
    "x_values = Sorthern_Hemisphere[\"Lat\"]\n",
    "y_values = Sorthern_Hemisphere[\"Max Temp\"]\n",
    "LinearRegressionplot(x_values, y_values)"
   ]
  },
  {
   "cell_type": "markdown",
   "metadata": {},
   "source": [
    "####  Northern Hemisphere - Humidity (%) vs. Latitude Linear Regression"
   ]
  },
  {
   "cell_type": "code",
   "execution_count": 33,
   "metadata": {},
   "outputs": [
    {
     "name": "stdout",
     "output_type": "stream",
     "text": [
      "The r-squared is: 0.3338115060287987\n"
     ]
    },
    {
     "data": {
      "image/png": "[encoded data removed]",
      "text/plain": [
       "<Figure size 432x288 with 1 Axes>"
      ]
     },
     "metadata": {
      "needs_background": "light"
     },
     "output_type": "display_data"
    }
   ],
   "source": [
    "x_values = Northern_Hemisphere[\"Lat\"]\n",
    "y_values = Northern_Hemisphere[\"Humidity\"]\n",
    "LinearRegressionplot(x_values, y_values)"
   ]
  },
  {
   "cell_type": "markdown",
   "metadata": {},
   "source": [
    "####  Southern Hemisphere - Humidity (%) vs. Latitude Linear Regression"
   ]
  },
  {
   "cell_type": "code",
   "execution_count": 34,
   "metadata": {},
   "outputs": [
    {
     "name": "stdout",
     "output_type": "stream",
     "text": [
      "The r-squared is: 0.29068185962580206\n"
     ]
    },
    {
     "data": {
      "image/png": "[encoded data removed]",
      "text/plain": [
       "<Figure size 432x288 with 1 Axes>"
      ]
     },
     "metadata": {
      "needs_background": "light"
     },
     "output_type": "display_data"
    }
   ],
   "source": [
    "x_values = Sorthern_Hemisphere[\"Lat\"]\n",
    "y_values = Sorthern_Hemisphere[\"Humidity\"]\n",
    "LinearRegressionplot(x_values, y_values)"
   ]
  },
  {
   "cell_type": "markdown",
   "metadata": {},
   "source": [
    "####  Northern Hemisphere - Cloudiness (%) vs. Latitude Linear Regression"
   ]
  },
  {
   "cell_type": "code",
   "execution_count": 35,
   "metadata": {},
   "outputs": [
    {
     "name": "stdout",
     "output_type": "stream",
     "text": [
      "The r-squared is: 0.18086311374192596\n"
     ]
    },
    {
     "data": {
      "image/png": "[encoded data removed]",
      "text/plain": [
       "<Figure size 432x288 with 1 Axes>"
      ]
     },
     "metadata": {
      "needs_background": "light"
     },
     "output_type": "display_data"
    }
   ],
   "source": [
    "x_values = Northern_Hemisphere[\"Lat\"]\n",
    "y_values = Northern_Hemisphere[\"Cloudiness\"]\n",
    "LinearRegressionplot(x_values, y_values)"
   ]
  },
  {
   "cell_type": "markdown",
   "metadata": {},
   "source": [
    "####  Southern Hemisphere - Cloudiness (%) vs. Latitude Linear Regression"
   ]
  },
  {
   "cell_type": "code",
   "execution_count": 36,
   "metadata": {},
   "outputs": [
    {
     "name": "stdout",
     "output_type": "stream",
     "text": [
      "The r-squared is: 0.09870811762316342\n"
     ]
    },
    {
     "data": {
      "image/png": "[encoded data removed]",
      "text/plain": [
       "<Figure size 432x288 with 1 Axes>"
      ]
     },
     "metadata": {
      "needs_background": "light"
     },
     "output_type": "display_data"
    }
   ],
   "source": [
    "x_values = Sorthern_Hemisphere[\"Lat\"]\n",
    "y_values = Sorthern_Hemisphere[\"Cloudiness\"]\n",
    "LinearRegressionplot(x_values, y_values)"
   ]
  },
  {
   "cell_type": "markdown",
   "metadata": {},
   "source": [
    "####  Northern Hemisphere - Wind Speed (mph) vs. Latitude Linear Regression"
   ]
  },
  {
   "cell_type": "code",
   "execution_count": 37,
   "metadata": {},
   "outputs": [
    {
     "name": "stdout",
     "output_type": "stream",
     "text": [
      "The r-squared is: 0.030407391912657074\n"
     ]
    },
    {
     "data": {
      "image/png": "[encoded data removed]",
      "text/plain": [
       "<Figure size 432x288 with 1 Axes>"
      ]
     },
     "metadata": {
      "needs_background": "light"
     },
     "output_type": "display_data"
    }
   ],
   "source": [
    "x_values = Northern_Hemisphere[\"Lat\"]\n",
    "y_values = Northern_Hemisphere[\"Wind Speed\"]\n",
    "LinearRegressionplot(x_values, y_values)"
   ]
  },
  {
   "cell_type": "markdown",
   "metadata": {},
   "source": [
    "####  Southern Hemisphere - Wind Speed (mph) vs. Latitude Linear Regression"
   ]
  },
  {
   "cell_type": "code",
   "execution_count": 38,
   "metadata": {},
   "outputs": [
    {
     "name": "stdout",
     "output_type": "stream",
     "text": [
      "The r-squared is: -0.1551507620625725\n"
     ]
    },
    {
     "data": {
      "image/png": "[encoded data removed]",
      "text/plain": [
       "<Figure size 432x288 with 1 Axes>"
      ]
     },
     "metadata": {
      "needs_background": "light"
     },
     "output_type": "display_data"
    }
   ],
   "source": [
    "x_values = Sorthern_Hemisphere[\"Lat\"]\n",
    "y_values = Sorthern_Hemisphere[\"Wind Speed\"]\n",
    "LinearRegressionplot(x_values, y_values)"
   ]
  },
  {
   "cell_type": "markdown",
   "metadata": {},
   "source": [
    "Observation 1: higher the latitude, lower the Temperature in Northern Hemisphere.\n",
    "\n",
    "Observation 2: the cloudness does not show relationship with latitude.\n",
    "\n",
    "Observation 3: the wind speed usually between 0 to 10 mph, some cities in Northern Hemisphere may occur higher wind speed. "
   ]
  }
 ],
 "metadata": {
  "anaconda-cloud": {},
  "kernel_info": {
   "name": "python3"
  },
  "kernelspec": {
   "display_name": "Python 3",
   "language": "python",
   "name": "python3"
  },
  "language_info": {
   "codemirror_mode": {
    "name": "ipython",
    "version": 3
   },
   "file_extension": ".py",
   "mimetype": "text/x-python",
   "name": "python",
   "nbconvert_exporter": "python",
   "pygments_lexer": "ipython3",
   "version": "3.7.4"
  },
  "latex_envs": {
   "LaTeX_envs_menu_present": true,
   "autoclose": false,
   "autocomplete": true,
   "bibliofile": "biblio.bib",
   "cite_by": "apalike",
   "current_citInitial": 1,
   "eqLabelWithNumbers": true,
   "eqNumInitial": 1,
   "hotkeys": {
    "equation": "Ctrl-E",
    "itemize": "Ctrl-I"
   },
   "labels_anchors": false,
   "latex_user_defs": false,
   "report_style_numbering": false,
   "user_envs_cfg": false
  },
  "nteract": {
   "version": "0.12.3"
  }
 },
 "nbformat": 4,
 "nbformat_minor": 4
}
